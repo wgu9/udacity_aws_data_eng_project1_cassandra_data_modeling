{
 "cells": [
  {
   "cell_type": "markdown",
   "metadata": {},
   "source": [
    "# Part I. ETL Pipeline for Pre-Processing the Files"
   ]
  },
  {
   "cell_type": "markdown",
   "metadata": {},
   "source": [
    "- Student: Jeremy Gu\n",
    "- Date 2/3/2024\n",
    "\n",
    "\n"
   ]
  },
  {
   "cell_type": "markdown",
   "metadata": {},
   "source": [
    "## PLEASE RUN THE FOLLOWING CODE FOR PRE-PROCESSING THE FILES"
   ]
  },
  {
   "cell_type": "markdown",
   "metadata": {},
   "source": [
    "#### Import Python packages "
   ]
  },
  {
   "cell_type": "code",
   "execution_count": 18,
   "metadata": {},
   "outputs": [],
   "source": [
    "# Import Python packages \n",
    "import pandas as pd\n",
    "import cassandra\n",
    "import re\n",
    "import os\n",
    "import glob\n",
    "import numpy as np\n",
    "import json\n",
    "import csv"
   ]
  },
  {
   "cell_type": "markdown",
   "metadata": {},
   "source": [
    "#### Creating list of filepaths to process original event csv data files"
   ]
  },
  {
   "cell_type": "code",
   "execution_count": 19,
   "metadata": {},
   "outputs": [
    {
     "name": "stdout",
     "output_type": "stream",
     "text": [
      "/Users/businessowner/Documents/GitHub/udacity_aws_data_eng_project1_cassandra_data_modeling\n"
     ]
    }
   ],
   "source": [
    "# checking your current working directory\n",
    "print(os.getcwd())\n",
    "\n",
    "# Get your current folder and subfolder event data\n",
    "filepath = os.getcwd() + '/event_data'\n",
    "\n",
    "# Create a for loop to create a list of files and collect each filepath\n",
    "for root, dirs, files in os.walk(filepath):\n",
    "    \n",
    "# join the file path and roots with the subdirectories using glob\n",
    "    file_path_list = glob.glob(os.path.join(root,'*'))\n",
    "    #print(file_path_list)"
   ]
  },
  {
   "cell_type": "markdown",
   "metadata": {},
   "source": [
    "#### Processing the files to create the data file csv that will be used for Apache Casssandra tables"
   ]
  },
  {
   "cell_type": "code",
   "execution_count": 20,
   "metadata": {},
   "outputs": [],
   "source": [
    "# initiating an empty list of rows that will be generated from each file\n",
    "full_data_rows_list = [] \n",
    "    \n",
    "# for every filepath in the file path list \n",
    "for f in file_path_list:\n",
    "\n",
    "# reading csv file \n",
    "    with open(f, 'r', encoding = 'utf8', newline='') as csvfile: \n",
    "        # creating a csv reader object \n",
    "        csvreader = csv.reader(csvfile) \n",
    "        next(csvreader)\n",
    "        \n",
    " # extracting each data row one by one and append it        \n",
    "        for line in csvreader:\n",
    "            #print(line)\n",
    "            full_data_rows_list.append(line) \n",
    "            \n",
    "# uncomment the code below if you would like to get total number of rows \n",
    "#print(len(full_data_rows_list))\n",
    "# uncomment the code below if you would like to check to see what the list of event data rows will look like\n",
    "#print(full_data_rows_list)\n",
    "\n",
    "# creating a smaller event data csv file called event_datafile_full csv that will be used to insert data into the \\\n",
    "# Apache Cassandra tables\n",
    "csv.register_dialect('myDialect', quoting=csv.QUOTE_ALL, skipinitialspace=True)\n",
    "\n",
    "with open('event_datafile_new.csv', 'w', encoding = 'utf8', newline='') as f:\n",
    "    writer = csv.writer(f, dialect='myDialect')\n",
    "    writer.writerow(['artist','firstName','gender','itemInSession','lastName','length',\\\n",
    "                'level','location','sessionId','song','userId'])\n",
    "    for row in full_data_rows_list:\n",
    "        if (row[0] == ''):\n",
    "            continue\n",
    "        writer.writerow((row[0], row[2], row[3], row[4], row[5], row[6], row[7], row[8], row[12], row[13], row[16]))\n"
   ]
  },
  {
   "cell_type": "code",
   "execution_count": 21,
   "metadata": {},
   "outputs": [
    {
     "name": "stdout",
     "output_type": "stream",
     "text": [
      "6821\n"
     ]
    }
   ],
   "source": [
    "# check the number of rows in your csv file\n",
    "with open('event_datafile_new.csv', 'r', encoding = 'utf8') as f:\n",
    "    print(sum(1 for line in f))"
   ]
  },
  {
   "cell_type": "markdown",
   "metadata": {},
   "source": [
    "# Part II. Complete the Apache Cassandra coding portion of your project. \n",
    "\n",
    "## Now you are ready to work with the CSV file titled <font color=red>event_datafile_new.csv</font>, located within the Workspace directory.  The event_datafile_new.csv contains the following columns: \n",
    "- artist \n",
    "- firstName of user\n",
    "- gender of user\n",
    "- item number in session\n",
    "- last name of user\n",
    "- length of the song\n",
    "- level (paid or free song)\n",
    "- location of the user\n",
    "- sessionId\n",
    "- song title\n",
    "- userId\n",
    "\n",
    "The image below is a screenshot of what the denormalized data should appear like in the <font color=red>**event_datafile_new.csv**</font> after the code above is run:<br>\n",
    "\n",
    "<img src=\"images/image_event_datafile_new.jpg\">"
   ]
  },
  {
   "cell_type": "markdown",
   "metadata": {},
   "source": [
    "## Begin writing your Apache Cassandra code in the cells below"
   ]
  },
  {
   "cell_type": "markdown",
   "metadata": {},
   "source": [
    "#### Creating a Cluster"
   ]
  },
  {
   "cell_type": "code",
   "execution_count": 22,
   "metadata": {},
   "outputs": [],
   "source": [
    "# This should make a connection to a Cassandra instance your local machine \n",
    "# (127.0.0.1)\n",
    "\n",
    "from cassandra.cluster import Cluster\n",
    "cluster = Cluster()\n",
    "\n",
    "# To establish connection and begin executing queries, need a session\n",
    "session = cluster.connect()"
   ]
  },
  {
   "cell_type": "markdown",
   "metadata": {},
   "source": [
    "#### Create Keyspace"
   ]
  },
  {
   "cell_type": "code",
   "execution_count": 23,
   "metadata": {},
   "outputs": [],
   "source": [
    "# TO-DO: Create a Keyspace \n",
    "try:\n",
    "\tsession.execute(\"\"\"\n",
    "\tCREATE KEYSPACE IF NOT EXISTS udacity\n",
    "\tWITH REPLICATION = \n",
    "\t{ 'class' : 'SimpleStrategy', 'replication_factor' : 1 }\n",
    "\t\"\"\")\n",
    "except Exception as e:\n",
    "\tprint(e)"
   ]
  },
  {
   "cell_type": "markdown",
   "metadata": {},
   "source": [
    "#### Set Keyspace"
   ]
  },
  {
   "cell_type": "code",
   "execution_count": 24,
   "metadata": {},
   "outputs": [],
   "source": [
    "# TO-DO: Set KEYSPACE to the keyspace specified above\n",
    "try:\n",
    "\tsession.set_keyspace('udacity')\n",
    "except Exception as e:\n",
    "\tprint(e)\n"
   ]
  },
  {
   "cell_type": "markdown",
   "metadata": {},
   "source": [
    "### Now we need to create tables to run the following queries. Remember, with Apache Cassandra you model the database tables on the queries you want to run."
   ]
  },
  {
   "cell_type": "markdown",
   "metadata": {},
   "source": [
    "## Create queries to ask the following three questions of the data\n",
    "\n",
    "### 1. Give me the artist, song title and song's length in the music app history that was heard during  sessionId = 338, and itemInSession  = 4\n",
    "\n",
    "\n",
    "### 2. Give me only the following: name of artist, song (sorted by itemInSession) and user (first and last name) for userid = 10, sessionid = 182\n",
    "    \n",
    "\n",
    "### 3. Give me every user name (first and last) in my music app history who listened to the song 'All Hands Against His Own'\n",
    "\n",
    "\n"
   ]
  },
  {
   "cell_type": "code",
   "execution_count": 25,
   "metadata": {},
   "outputs": [
    {
     "name": "stdout",
     "output_type": "stream",
     "text": [
      "Faithless Music Matters (Mark Knight Dub) 495.30731201171875\n"
     ]
    }
   ],
   "source": [
    "## TO-DO: Query 1:  Give me the artist, song title and song's length in the music app history that was heard during \\\n",
    "## sessionId = 338, and itemInSession = 4\n",
    "\n",
    "# Create table\n",
    "\n",
    "# Query 1: Session Item History\n",
    "# Partition Key: sessionId ensures data is distributed across nodes.\n",
    "# Clustering Column: itemInSession ensures data is sorted within each partition.\n",
    "\n",
    "query = \"CREATE TABLE IF NOT EXISTS session_item_history \"\n",
    "query = query + \"(sessionId int, itemInSession int, artist text, song_title text, song_length float, PRIMARY KEY (sessionId, itemInSession))\"\n",
    "try:\n",
    "\tsession.execute(query)\n",
    "except Exception as e:\n",
    "\tprint(e)\n",
    "\n",
    "# Insert data into the table\n",
    "file = 'event_datafile_new.csv'\n",
    "with open(file, encoding='utf8') as f:\n",
    "\tcsvreader = csv.reader(f)\n",
    "\tnext(csvreader)  # skip header\n",
    "\tfor line in csvreader:\n",
    "\t\tquery = \"INSERT INTO session_item_history (sessionId, itemInSession, artist, song_title, song_length)\"\n",
    "\t\tquery = query + \" VALUES (%s, %s, %s, %s, %s)\"\n",
    "\t\ttry:\n",
    "\t\t\tsession.execute(query, (int(line[8]), int(line[3]), line[0], line[9], float(line[5])))\n",
    "\t\texcept Exception as e:\n",
    "\t\t\tprint(e)\n",
    "\n",
    "# Select the data\n",
    "query = \"SELECT artist, song_title, song_length FROM session_item_history WHERE sessionId = 338 AND itemInSession = 4\"\n",
    "try:\n",
    "\trows = session.execute(query)\n",
    "except Exception as e:\n",
    "\tprint(e)\n",
    "\n",
    "for row in rows:\n",
    "\tprint(row.artist, row.song_title, row.song_length)\n",
    "\n",
    "\n",
    "                    "
   ]
  },
  {
   "cell_type": "code",
   "execution_count": 26,
   "metadata": {
    "scrolled": false
   },
   "outputs": [],
   "source": [
    "# We have provided part of the code to set up the CSV file. Please complete the Apache Cassandra code below#\n",
    "file = 'event_datafile_new.csv'\n",
    "\n",
    "with open(file, encoding = 'utf8') as f:\n",
    "    csvreader = csv.reader(f)\n",
    "    next(csvreader) # skip header\n",
    "    for line in csvreader:\n",
    "        query = \"INSERT INTO session_item_history (sessionId, itemInSession, artist, song_title, song_length)\"\n",
    "        query = query + \" VALUES (%s, %s, %s, %s, %s)\"\n",
    "        session.execute(query, (int(line[8]), int(line[3]), line[0], line[9], float(line[5])))"
   ]
  },
  {
   "cell_type": "markdown",
   "metadata": {},
   "source": [
    "#### Do a SELECT to verify that the data have been inserted into each table"
   ]
  },
  {
   "cell_type": "code",
   "execution_count": 27,
   "metadata": {
    "scrolled": true
   },
   "outputs": [
    {
     "name": "stdout",
     "output_type": "stream",
     "text": [
      "Faithless Music Matters (Mark Knight Dub) 495.30731201171875\n"
     ]
    }
   ],
   "source": [
    "## TO-DO: Add in the SELECT statement to verify the data was entered into the table\n",
    "\n",
    "# Select the data to verify it was inserted correctly\n",
    "query = \"SELECT artist, song_title, song_length FROM session_item_history WHERE sessionId = 338 AND itemInSession = 4\"\n",
    "try:\n",
    "\trows = session.execute(query)\n",
    "except Exception as e:\n",
    "\tprint(e)\n",
    "\n",
    "for row in rows:\n",
    "\tprint(row.artist, row.song_title, row.song_length)"
   ]
  },
  {
   "cell_type": "markdown",
   "metadata": {},
   "source": [
    "### COPY AND REPEAT THE ABOVE THREE CELLS FOR EACH OF THE THREE QUESTIONS"
   ]
  },
  {
   "cell_type": "code",
   "execution_count": 28,
   "metadata": {},
   "outputs": [
    {
     "name": "stdout",
     "output_type": "stream",
     "text": [
      "Down To The Bone Keep On Keepin' On Sylvie Cruz\n",
      "Three Drives Greece 2000 Sylvie Cruz\n",
      "Sebastien Tellier Kilometer Sylvie Cruz\n",
      "Lonnie Gordon Catch You Baby (Steve Pitron & Max Sanna Radio Edit) Sylvie Cruz\n"
     ]
    }
   ],
   "source": [
    "## TO-DO: Query 2: Give me only the following: name of artist, song (sorted by itemInSession) and user (first and last name)\\\n",
    "## for userid = 10, sessionid = 182\n",
    "\n",
    "# Create table\n",
    "\n",
    "# Query 2: User Session History\n",
    "# Composite Partition Key: (userId, sessionId) ensures data is grouped by user and session.\n",
    "# Clustering Column: itemInSession ensures data is sorted by item order within each session.\n",
    "\n",
    "\n",
    "\n",
    "query = \"CREATE TABLE IF NOT EXISTS user_session_history \"\n",
    "query = query + \"(userId int, sessionId int, itemInSession int, artist text, song_title text, firstName text, lastName text, PRIMARY KEY ((userId, sessionId), itemInSession))\"\n",
    "try:\n",
    "\tsession.execute(query)\n",
    "except Exception as e:\n",
    "\tprint(e)\n",
    "\n",
    "# Insert data into the table\n",
    "file = 'event_datafile_new.csv'\n",
    "with open(file, encoding='utf8') as f:\n",
    "\tcsvreader = csv.reader(f)\n",
    "\tnext(csvreader)  # skip header\n",
    "\tfor line in csvreader:\n",
    "\t\tquery = \"INSERT INTO user_session_history (userId, sessionId, itemInSession, artist, song_title, firstName, lastName)\"\n",
    "\t\tquery = query + \" VALUES (%s, %s, %s, %s, %s, %s, %s)\"\n",
    "\t\ttry:\n",
    "\t\t\tsession.execute(query, (int(line[10]), int(line[8]), int(line[3]), line[0], line[9], line[1], line[4]))\n",
    "\t\texcept Exception as e:\n",
    "\t\t\tprint(e)\n",
    "\n",
    "# Select the data\n",
    "query = \"SELECT artist, song_title, firstName, lastName FROM user_session_history WHERE userId = 10 AND sessionId = 182\"\n",
    "try:\n",
    "\trows = session.execute(query)\n",
    "except Exception as e:\n",
    "\tprint(e)\n",
    "\n",
    "for row in rows:\n",
    "\tprint(row.artist, row.song_title, row.firstname, row.lastname)\n",
    "\n",
    "\n",
    "                    "
   ]
  },
  {
   "cell_type": "code",
   "execution_count": 29,
   "metadata": {},
   "outputs": [
    {
     "name": "stdout",
     "output_type": "stream",
     "text": [
      "Jacqueline Lynch\n",
      "Tegan Levine\n",
      "Sara Johnson\n"
     ]
    }
   ],
   "source": [
    "## TO-DO: Query 3: Give me every user name (first and last) in my music app history who listened to the song 'All Hands Against His Own'\n",
    "\n",
    "# Create table\n",
    "\n",
    "# Query 3: Song Listeners\n",
    "# Partition Key: song_title ensures data is grouped by song.\n",
    "# Clustering Column: userId ensures users are uniquely identified within each song group.\n",
    "\n",
    "\n",
    "query = \"CREATE TABLE IF NOT EXISTS song_listeners \"\n",
    "query = query + \"(song_title text, userId int, firstName text, lastName text, PRIMARY KEY (song_title, userId))\"\n",
    "try:\n",
    "\tsession.execute(query)\n",
    "except Exception as e:\n",
    "\tprint(e)\n",
    "\n",
    "# Insert data into the table\n",
    "file = 'event_datafile_new.csv'\n",
    "with open(file, encoding='utf8') as f:\n",
    "\tcsvreader = csv.reader(f)\n",
    "\tnext(csvreader)  # skip header\n",
    "\tfor line in csvreader:\n",
    "\t\tquery = \"INSERT INTO song_listeners (song_title, userId, firstName, lastName)\"\n",
    "\t\tquery = query + \" VALUES (%s, %s, %s, %s)\"\n",
    "\t\ttry:\n",
    "\t\t\tsession.execute(query, (line[9], int(line[10]), line[1], line[4]))\n",
    "\t\texcept Exception as e:\n",
    "\t\t\tprint(e)\n",
    "\n",
    "# Select the data\n",
    "\n",
    "\n",
    "query = \"SELECT firstName, lastName FROM song_listeners WHERE song_title = 'All Hands Against His Own'\"\n",
    "try:\n",
    "\trows = session.execute(query)\n",
    "except Exception as e:\n",
    "\tprint(e)\n",
    "\n",
    "for row in rows:\n",
    "\tprint(row.firstname, row.lastname)\n",
    "\n",
    "\n",
    "                    "
   ]
  },
  {
   "cell_type": "markdown",
   "metadata": {},
   "source": [
    "# Organized Answers\n",
    "\n",
    "### Query 1: Get Artist, Song Title, and Song Length for Session ID 338, Item in Session 4\n",
    "- Purpose: Retrieve specific song details based on `sessionId` and `itemInSession`.\n",
    "- Table Design: `sessionId` as partition key ensures efficient data distribution, and `itemInSession` as clustering column ensures sorting within the partition."
   ]
  },
  {
   "cell_type": "code",
   "execution_count": 31,
   "metadata": {},
   "outputs": [
    {
     "name": "stdout",
     "output_type": "stream",
     "text": [
      "      Artist                       Song Title  Song Length\n",
      "0  Faithless  Music Matters (Mark Knight Dub)   495.307312\n"
     ]
    }
   ],
   "source": [
    "import pandas as pd\n",
    "\n",
    "# Query 1: Format output with Pandas\n",
    "query = \"SELECT artist, song_title, song_length FROM session_item_history WHERE sessionId = 338 AND itemInSession = 4\"\n",
    "try:\n",
    "    rows = session.execute(query)\n",
    "    df = pd.DataFrame(list(rows), columns=['Artist', 'Song Title', 'Song Length'])\n",
    "    print(df)\n",
    "except Exception as e:\n",
    "    print(e)"
   ]
  },
  {
   "cell_type": "markdown",
   "metadata": {},
   "source": [
    "### Query 2: Get Artist, Song, and User Details for UserID 10, SessionID 182\n",
    "- Purpose: Retrieve all songs played by a specific user in a session, sorted by `itemInSession`.\n",
    "- Table Design: Composite partition key `(userId, sessionId)` groups data by user and session, while `itemInSession` as clustering column ensures sorting."
   ]
  },
  {
   "cell_type": "code",
   "execution_count": 32,
   "metadata": {},
   "outputs": [
    {
     "name": "stdout",
     "output_type": "stream",
     "text": [
      "              Artist                                         Song Title  \\\n",
      "0   Down To The Bone                                 Keep On Keepin' On   \n",
      "1       Three Drives                                        Greece 2000   \n",
      "2  Sebastien Tellier                                          Kilometer   \n",
      "3      Lonnie Gordon  Catch You Baby (Steve Pitron & Max Sanna Radio...   \n",
      "\n",
      "  First Name Last Name  \n",
      "0     Sylvie      Cruz  \n",
      "1     Sylvie      Cruz  \n",
      "2     Sylvie      Cruz  \n",
      "3     Sylvie      Cruz  \n"
     ]
    }
   ],
   "source": [
    "# Query 2: Format output with Pandas\n",
    "query = \"SELECT artist, song_title, firstName, lastName FROM user_session_history WHERE userId = 10 AND sessionId = 182\"\n",
    "try:\n",
    "    rows = session.execute(query)\n",
    "    df = pd.DataFrame(list(rows), columns=['Artist', 'Song Title', 'First Name', 'Last Name'])\n",
    "    print(df)\n",
    "except Exception as e:\n",
    "    print(e)"
   ]
  },
  {
   "cell_type": "markdown",
   "metadata": {},
   "source": [
    "### Query 3: Get All Users Who Listened to the Song 'All Hands Against His Own'\n",
    "- Purpose: Retrieve all users who listened to a specific song.\n",
    "- Table Design: `song_title` as partition key groups data by song, and `userId` as clustering column ensures unique user identification."
   ]
  },
  {
   "cell_type": "code",
   "execution_count": 33,
   "metadata": {},
   "outputs": [
    {
     "name": "stdout",
     "output_type": "stream",
     "text": [
      "   First Name Last Name\n",
      "0  Jacqueline     Lynch\n",
      "1       Tegan    Levine\n",
      "2        Sara   Johnson\n"
     ]
    }
   ],
   "source": [
    "# Query 3: Format output with Pandas\n",
    "query = \"SELECT firstName, lastName FROM song_listeners WHERE song_title = 'All Hands Against His Own'\"\n",
    "try:\n",
    "    rows = session.execute(query)\n",
    "    df = pd.DataFrame(list(rows), columns=['First Name', 'Last Name'])\n",
    "    print(df)\n",
    "except Exception as e:\n",
    "    print(e)"
   ]
  },
  {
   "cell_type": "markdown",
   "metadata": {},
   "source": [
    "### Drop the tables before closing out the sessions"
   ]
  },
  {
   "cell_type": "code",
   "execution_count": 34,
   "metadata": {},
   "outputs": [],
   "source": [
    "## TO-DO: Drop the table before closing out the sessions\n",
    "\n",
    "# Drop table session_item_history\n",
    "try:\n",
    "\tsession.execute(\"DROP TABLE IF EXISTS session_item_history\")\n",
    "except Exception as e:\n",
    "\tprint(e)\n",
    "\n",
    "# Drop table user_session_history\n",
    "try:\n",
    "\tsession.execute(\"DROP TABLE IF EXISTS user_session_history\")\n",
    "except Exception as e:\n",
    "\tprint(e)\n",
    "\n",
    "# Drop table song_listeners\n",
    "try:\n",
    "\tsession.execute(\"DROP TABLE IF EXISTS song_listeners\")\n",
    "except Exception as e:\n",
    "\tprint(e)"
   ]
  },
  {
   "cell_type": "markdown",
   "metadata": {},
   "source": [
    "### Close the session and cluster connection¶"
   ]
  },
  {
   "cell_type": "code",
   "execution_count": 35,
   "metadata": {},
   "outputs": [],
   "source": [
    "session.shutdown()\n",
    "cluster.shutdown()"
   ]
  },
  {
   "cell_type": "code",
   "execution_count": null,
   "metadata": {},
   "outputs": [],
   "source": []
  }
 ],
 "metadata": {
  "kernelspec": {
   "display_name": ".venv",
   "language": "python",
   "name": "python3"
  },
  "language_info": {
   "codemirror_mode": {
    "name": "ipython",
    "version": 3
   },
   "file_extension": ".py",
   "mimetype": "text/x-python",
   "name": "python",
   "nbconvert_exporter": "python",
   "pygments_lexer": "ipython3",
   "version": "3.10.13"
  }
 },
 "nbformat": 4,
 "nbformat_minor": 2
}
